{
 "cells": [
  {
   "cell_type": "code",
   "execution_count": null,
   "metadata": {
    "id": "P-wLa1G-r1Zn"
   },
   "outputs": [],
   "source": [
    "import pandas as pd"
   ]
  },
  {
   "cell_type": "code",
   "execution_count": null,
   "metadata": {
    "colab": {
     "base_uri": "https://localhost:8080/",
     "height": 73
    },
    "id": "1sGTPPYgsLIF",
    "outputId": "fb984dc7-1965-477e-e64a-67e6ead0fe8f"
   },
   "outputs": [],
   "source": [
    "from google.colab import files\n",
    "uploaded =files.upload()\n"
   ]
  },
  {
   "cell_type": "code",
   "execution_count": null,
   "metadata": {
    "id": "zvOEng8Tu2fH"
   },
   "outputs": [],
   "source": [
    "df = pd.read_csv('employees2.csv.csv')"
   ]
  },
  {
   "cell_type": "code",
   "execution_count": null,
   "metadata": {
    "colab": {
     "base_uri": "https://localhost:8080/",
     "height": 335
    },
    "id": "-hodUH9Rwnl7",
    "outputId": "c459ccef-8293-481b-ef36-4b08cbda3c0f"
   },
   "outputs": [],
   "source": [
    "df.isnull().any()"
   ]
  },
  {
   "cell_type": "code",
   "execution_count": null,
   "metadata": {
    "colab": {
     "base_uri": "https://localhost:8080/",
     "height": 424
    },
    "id": "Mt9QWjSRxCXb",
    "outputId": "537a8da8-b1fd-4466-cd9a-259a7c0fa8cf"
   },
   "outputs": [],
   "source": [
    "df[df['First Name'].isnull()  == 1]"
   ]
  },
  {
   "cell_type": "code",
   "execution_count": null,
   "metadata": {
    "id": "WwiPWxowxvt0"
   },
   "outputs": [],
   "source": [
    "df['First Name']=df['First Name'].fillna('Unknown')\n"
   ]
  },
  {
   "cell_type": "code",
   "execution_count": null,
   "metadata": {
    "colab": {
     "base_uri": "https://localhost:8080/",
     "height": 458
    },
    "id": "58cgbIDz0-RW",
    "outputId": "a16b7ea6-916e-4424-f667-4c853f81a883"
   },
   "outputs": [],
   "source": [
    "df['First Name']"
   ]
  },
  {
   "cell_type": "code",
   "execution_count": null,
   "metadata": {
    "id": "sxBGdQjh1r4O"
   },
   "outputs": [],
   "source": [
    "df=df.fillna({'Gender' : 'No Gender', 'Senior Management' : 'None' , 'Team' : 'No Team'})"
   ]
  },
  {
   "cell_type": "code",
   "execution_count": null,
   "metadata": {
    "id": "aET7_Wmq38Dj"
   },
   "outputs": [],
   "source": [
    "df['Gender']= df['Gender'].replace('No Gender' , 'NA' )"
   ]
  },
  {
   "cell_type": "code",
   "execution_count": null,
   "metadata": {
    "colab": {
     "base_uri": "https://localhost:8080/",
     "height": 424
    },
    "id": "p3ZgjMeE391C",
    "outputId": "844dfc6e-2129-4adf-ed49-e60168620701"
   },
   "outputs": [],
   "source": [
    "df"
   ]
  },
  {
   "cell_type": "code",
   "execution_count": null,
   "metadata": {
    "colab": {
     "base_uri": "https://localhost:8080/",
     "height": 458
    },
    "id": "3TYc6g384NSy",
    "outputId": "2a0ed1c4-8e20-43f8-85b8-c6815c34e4b7"
   },
   "outputs": [],
   "source": [
    "df['Gender']"
   ]
  },
  {
   "cell_type": "code",
   "execution_count": null,
   "metadata": {
    "colab": {
     "base_uri": "https://localhost:8080/",
     "height": 238
    },
    "id": "PeLImjFl51Bs",
    "outputId": "a11aec7c-99b5-4e7b-e35f-a8020a9f88e0"
   },
   "outputs": [],
   "source": [
    "df[df['First Name'] == 'Henry']"
   ]
  },
  {
   "cell_type": "code",
   "execution_count": null,
   "metadata": {
    "colab": {
     "base_uri": "https://localhost:8080/"
    },
    "id": "uU8Fma3aMH85",
    "outputId": "1d50db74-4854-44e1-cabc-53cfed84f545"
   },
   "outputs": [],
   "source": [
    "df['Team'].isnull().any()"
   ]
  },
  {
   "cell_type": "code",
   "execution_count": null,
   "metadata": {
    "colab": {
     "base_uri": "https://localhost:8080/",
     "height": 335
    },
    "id": "NjiQyAcVPkiS",
    "outputId": "f3236a5b-b10b-4324-c290-638c6996e0fc"
   },
   "outputs": [],
   "source": [
    "df.dtypes"
   ]
  },
  {
   "cell_type": "code",
   "execution_count": null,
   "metadata": {
    "colab": {
     "base_uri": "https://localhost:8080/"
    },
    "id": "yzU3K-idP2Zl",
    "outputId": "e7807f34-2ea3-4d25-be6f-b5318310bee4"
   },
   "outputs": [],
   "source": [
    "df.columns"
   ]
  },
  {
   "cell_type": "code",
   "execution_count": null,
   "metadata": {
    "colab": {
     "base_uri": "https://localhost:8080/"
    },
    "id": "Q2688VOgQPqs",
    "outputId": "aa40c30c-3f06-4c7d-acd6-ac15b486415f"
   },
   "outputs": [],
   "source": [
    "df['Start Date'] = pd.to_datetime(df['Start Date'], errors='coerce')\n",
    "df['Last Login Time'] = pd.to_datetime(df['Last Login Time'], errors='coerce').dt.time\n",
    "\n",
    "df = df.astype({\n",
    "    'First Name': 'str',\n",
    "    'Gender': 'str',\n",
    "    'Salary': 'float',\n",
    "    'Bonus %': 'float',\n",
    "    'Senior Management': 'str',\n",
    "    'Team': 'str'\n",
    "})\n"
   ]
  },
  {
   "cell_type": "code",
   "execution_count": null,
   "metadata": {
    "colab": {
     "base_uri": "https://localhost:8080/",
     "height": 335
    },
    "id": "iQhsrJzjTisc",
    "outputId": "d54e55e2-890a-476a-f2fb-e3117d6db967"
   },
   "outputs": [],
   "source": [
    "df.dtypes\n"
   ]
  },
  {
   "cell_type": "code",
   "execution_count": null,
   "metadata": {
    "colab": {
     "base_uri": "https://localhost:8080/",
     "height": 233
    },
    "id": "D3pAC05WTluL",
    "outputId": "70ebbd0b-2b4c-4ca0-eacf-9590d750da81"
   },
   "outputs": [],
   "source": [
    "df = pd.read_csv('employees2.csv.csv')\n",
    "\n",
    "df['Start Date'] = pd.to_datetime(df['Start Date'], errors='coerce')\n",
    "df['Last Login Time'] = pd.to_datetime(df['Last Login Time'], errors='coerce').dt.time\n",
    "\n",
    "df = df.astype({\n",
    "    'First Name': 'str',\n",
    "    'Gender': 'str',\n",
    "    'Salary': 'float',\n",
    "    'Bonus %': 'float',\n",
    "    'Senior Management': 'str',\n",
    "    'Team': 'str'\n",
    "})\n",
    "df.groupby('Gender')['Salary'].max().to_frame('HighInnGender').reset_index().sort_values('HighInnGender' , ascending = False)"
   ]
  },
  {
   "cell_type": "markdown",
   "metadata": {
    "id": "fb8512c4"
   },
   "source": [
    "# Task\n",
    "Analyze the provided employee dataset to understand salary distribution and other key statistics across different categories like gender, team, and senior management status. Calculate and display mean, median, minimum, and standard deviation of salaries by gender. Calculate and display mean salary by 'Team' and 'Senior Management'. Visualize the salary distribution using a histogram of overall salaries and box plots by 'Gender' and 'Team'. Explore the 'bonus %' column by calculating and displaying mean and maximum bonus percentage by 'Gender' and 'Team'. Summarize the findings."
   ]
  },
  {
   "cell_type": "markdown",
   "metadata": {
    "id": "200ec469"
   },
   "source": [
    "## Calculate and display other salary statistics by gender\n",
    "\n",
    "### Subtask:\n",
    "Calculate and display mean, median, minimum, and standard deviation of salaries for each gender.\n"
   ]
  },
  {
   "cell_type": "markdown",
   "metadata": {
    "id": "d28a915f"
   },
   "source": [
    "**Reasoning**:\n",
    "I need to group the DataFrame by 'Gender' and calculate the mean, median, minimum, and standard deviation of the 'Salary' for each group as per the instructions.\n",
    "\n"
   ]
  },
  {
   "cell_type": "code",
   "execution_count": null,
   "metadata": {
    "colab": {
     "base_uri": "https://localhost:8080/",
     "height": 175
    },
    "id": "d3964d56",
    "outputId": "0cf5f38d-bba2-45ad-e8fa-5989ae94fe77"
   },
   "outputs": [],
   "source": [
    "salary_stats_by_gender = df.groupby('Gender')['Salary'].agg(['mean', 'median', 'min', 'std'])\n",
    "display(salary_stats_by_gender)"
   ]
  },
  {
   "cell_type": "markdown",
   "metadata": {
    "id": "63e4c338"
   },
   "source": [
    "**Reasoning**:\n",
    "The previous calculation resulted in all zeros, which indicates an issue with the data or the previous steps that converted the 'Salary' column. I need to inspect the 'Salary' column again to understand why this is happening.\n",
    "\n"
   ]
  },
  {
   "cell_type": "code",
   "execution_count": null,
   "metadata": {
    "colab": {
     "base_uri": "https://localhost:8080/",
     "height": 258
    },
    "id": "4ef2d166",
    "outputId": "01b73bf4-78db-4a09-9c3a-64faed96bc9c"
   },
   "outputs": [],
   "source": [
    "display(df['Salary'].head())\n",
    "display(df['Salary'].dtype)"
   ]
  },
  {
   "cell_type": "markdown",
   "metadata": {
    "id": "d0c72978"
   },
   "source": [
    "**Reasoning**:\n",
    "The 'Salary' column was incorrectly converted to all zeros in a previous step. I need to reload the original data and perform the type conversions correctly before calculating the salary statistics by gender.\n",
    "\n"
   ]
  },
  {
   "cell_type": "code",
   "execution_count": null,
   "metadata": {
    "colab": {
     "base_uri": "https://localhost:8080/",
     "height": 264
    },
    "id": "f71b6ca8",
    "outputId": "a2fcbe83-50a4-4bc1-e211-db403f2da588"
   },
   "outputs": [],
   "source": [
    "df = pd.read_csv('employees2.csv.csv')\n",
    "\n",
    "df['Start Date'] = pd.to_datetime(df['Start Date'], errors='coerce')\n",
    "df['Last Login Time'] = pd.to_datetime(df['Last Login Time'], errors='coerce').dt.time\n",
    "\n",
    "df = df.astype({\n",
    "    'First Name': 'str',\n",
    "    'Gender': 'str',\n",
    "    'Salary': 'float',\n",
    "    'Bonus %': 'float',\n",
    "    'Senior Management': 'str',\n",
    "    'Team': 'str'\n",
    "})\n",
    "\n",
    "salary_stats_by_gender = df.groupby('Gender')['Salary'].agg(['mean', 'median', 'min', 'std'])\n",
    "display(salary_stats_by_gender)"
   ]
  },
  {
   "cell_type": "markdown",
   "metadata": {
    "id": "80ec4add"
   },
   "source": [
    "## Analyze salaries by other categories\n",
    "\n",
    "### Subtask:\n",
    "Calculate and display mean salary by 'Team' and 'Senior Management'.\n"
   ]
  },
  {
   "cell_type": "markdown",
   "metadata": {
    "id": "95d7b63b"
   },
   "source": [
    "**Reasoning**:\n",
    "Calculate and display the mean salary for each team.\n",
    "\n"
   ]
  },
  {
   "cell_type": "code",
   "execution_count": null,
   "metadata": {
    "colab": {
     "base_uri": "https://localhost:8080/",
     "height": 460
    },
    "id": "3b174d6a",
    "outputId": "13574102-76b6-46ea-82ee-c5da3d11d5f7"
   },
   "outputs": [],
   "source": [
    "mean_salary_by_team = df.groupby('Team')['Salary'].mean().sort_values(ascending = False)\n",
    "display(mean_salary_by_team)"
   ]
  },
  {
   "cell_type": "markdown",
   "metadata": {
    "id": "69661c02"
   },
   "source": [
    "**Reasoning**:\n",
    "Calculate and display the mean salary for each senior management status.\n",
    "\n"
   ]
  },
  {
   "cell_type": "code",
   "execution_count": null,
   "metadata": {
    "colab": {
     "base_uri": "https://localhost:8080/",
     "height": 210
    },
    "id": "bdda6fd5",
    "outputId": "9298e393-b7bb-475d-cd12-c44ef672d7bb"
   },
   "outputs": [],
   "source": [
    "mean_salary_by_senior_management = df.groupby('Senior Management')['Salary'].mean()\n",
    "display(mean_salary_by_senior_management)\n"
   ]
  },
  {
   "cell_type": "markdown",
   "metadata": {
    "id": "5a896de0"
   },
   "source": [
    "## Visualize the salary distribution\n",
    "\n",
    "### Subtask:\n",
    "Create a histogram of overall salaries and box plots to visualize salary distribution by 'Gender' and 'Team'.\n"
   ]
  },
  {
   "cell_type": "markdown",
   "metadata": {
    "id": "7a5c900d"
   },
   "source": [
    "**Reasoning**:\n",
    "Import the necessary libraries for plotting.\n",
    "\n"
   ]
  },
  {
   "cell_type": "code",
   "execution_count": null,
   "metadata": {
    "id": "caee056c"
   },
   "outputs": [],
   "source": [
    "import matplotlib.pyplot as plt\n",
    "import seaborn as sns"
   ]
  },
  {
   "cell_type": "markdown",
   "metadata": {
    "id": "368336da"
   },
   "source": [
    "**Reasoning**:\n",
    "Create a histogram of the overall salaries to visualize the salary distribution.\n",
    "\n"
   ]
  },
  {
   "cell_type": "code",
   "execution_count": null,
   "metadata": {
    "colab": {
     "base_uri": "https://localhost:8080/",
     "height": 564
    },
    "id": "590dc752",
    "outputId": "a1a7a4c0-09f0-4b2f-c012-2ed288659d7d"
   },
   "outputs": [],
   "source": [
    "plt.figure(figsize=(10, 6))\n",
    "plt.hist(df['Salary'], bins=20, edgecolor='black')\n",
    "plt.title('Overall Salary Distribution')\n",
    "plt.xlabel('Salary')\n",
    "plt.ylabel('Frequency')\n",
    "plt.show()"
   ]
  },
  {
   "cell_type": "markdown",
   "metadata": {
    "id": "1ade156f"
   },
   "source": [
    "**Reasoning**:\n",
    "Create a box plot to visualize the salary distribution by gender.\n",
    "\n"
   ]
  },
  {
   "cell_type": "code",
   "execution_count": null,
   "metadata": {
    "colab": {
     "base_uri": "https://localhost:8080/",
     "height": 564
    },
    "id": "9ac3a305",
    "outputId": "2aefb269-8109-4e83-86a9-ced6c32a4504"
   },
   "outputs": [],
   "source": [
    "plt.figure(figsize=(8, 6))\n",
    "sns.boxplot(x='Gender', y='Salary', data=df)\n",
    "plt.title('Salary Distribution by Gender')\n",
    "plt.xlabel('Gender')\n",
    "plt.ylabel('Salary')\n",
    "plt.show()"
   ]
  },
  {
   "cell_type": "markdown",
   "metadata": {
    "id": "e96ddaa3"
   },
   "source": [
    "**Reasoning**:\n",
    "Create a box plot to visualize the salary distribution by team and rotate x-axis labels for better readability.\n",
    "\n"
   ]
  },
  {
   "cell_type": "code",
   "execution_count": null,
   "metadata": {
    "colab": {
     "base_uri": "https://localhost:8080/",
     "height": 607
    },
    "id": "3806bfd1",
    "outputId": "88bbdf15-ff9b-4487-abfe-dcd3b6c52874"
   },
   "outputs": [],
   "source": [
    "plt.figure(figsize=(12, 6))\n",
    "sns.boxplot(x='Team', y='Salary', data=df)\n",
    "plt.title('Salary Distribution by Team')\n",
    "plt.xlabel('Team')\n",
    "plt.ylabel('Salary')\n",
    "plt.xticks(rotation=45, ha='right')\n",
    "plt.tight_layout()\n",
    "plt.show()"
   ]
  },
  {
   "cell_type": "markdown",
   "metadata": {
    "id": "3186018d"
   },
   "source": [
    "## Explore the 'bonus %' column\n",
    "\n",
    "### Subtask:\n",
    "Calculate and display mean and maximum bonus percentage by 'Gender' and 'Team'.\n"
   ]
  },
  {
   "cell_type": "markdown",
   "metadata": {
    "id": "6d2a3e54"
   },
   "source": [
    "**Reasoning**:\n",
    "Calculate and display the mean bonus percentage for each gender.\n",
    "\n"
   ]
  },
  {
   "cell_type": "code",
   "execution_count": null,
   "metadata": {
    "colab": {
     "base_uri": "https://localhost:8080/",
     "height": 210
    },
    "id": "3b5bcd38",
    "outputId": "8d6d05ec-aaca-4f20-865f-c9c2ffcc474a"
   },
   "outputs": [],
   "source": [
    "mean_bonus_by_gender = df.groupby('Gender')['Bonus %'].mean()\n",
    "display(mean_bonus_by_gender)"
   ]
  },
  {
   "cell_type": "markdown",
   "metadata": {
    "id": "90d54341"
   },
   "source": [
    "**Reasoning**:\n",
    "Calculate and display the maximum bonus percentage for each gender.\n",
    "\n"
   ]
  },
  {
   "cell_type": "code",
   "execution_count": null,
   "metadata": {
    "colab": {
     "base_uri": "https://localhost:8080/",
     "height": 210
    },
    "id": "ca644986",
    "outputId": "5000ebfc-ffc0-4a7e-e11b-d5cfbe347bb6"
   },
   "outputs": [],
   "source": [
    "max_bonus_by_gender = df.groupby('Gender')['Bonus %'].max()\n",
    "display(max_bonus_by_gender)"
   ]
  },
  {
   "cell_type": "markdown",
   "metadata": {
    "id": "63ef3ee3"
   },
   "source": [
    "**Reasoning**:\n",
    "Calculate and display the mean bonus percentage for each team.\n",
    "\n"
   ]
  },
  {
   "cell_type": "code",
   "execution_count": null,
   "metadata": {
    "colab": {
     "base_uri": "https://localhost:8080/",
     "height": 460
    },
    "id": "1f0be5af",
    "outputId": "2d123c26-46a3-4e36-a8b0-a39ba17b98a8"
   },
   "outputs": [],
   "source": [
    "mean_bonus_by_team = df.groupby('Team')['Bonus %'].mean().sort_values(ascending = False)\n",
    "display(mean_bonus_by_team)"
   ]
  },
  {
   "cell_type": "markdown",
   "metadata": {
    "id": "c9da3112"
   },
   "source": [
    "**Reasoning**:\n",
    "Calculate and display the maximum bonus percentage for each team.\n",
    "\n"
   ]
  },
  {
   "cell_type": "code",
   "execution_count": null,
   "metadata": {
    "colab": {
     "base_uri": "https://localhost:8080/",
     "height": 460
    },
    "id": "ae558dfb",
    "outputId": "75f4253d-9cf2-4188-d09c-1f5ca33cf638"
   },
   "outputs": [],
   "source": [
    "max_bonus_by_team = df.groupby('Team')['Bonus %'].max().sort_values(ascending = False)\n",
    "display(max_bonus_by_team)"
   ]
  },
  {
   "cell_type": "markdown",
   "metadata": {
    "id": "33c80f74"
   },
   "source": [
    "## Summary:\n",
    "\n",
    "### Data Analysis Key Findings\n",
    "\n",
    "*   The mean salary for 'Female' employees is approximately \\$101,025.94, for 'Male' is approximately \\$99,175.58, and for employees with missing gender information is approximately \\$101,514.0.\n",
    "*   The median salary for 'Female' employees is \\$100,450.0, for 'Male' is \\$99,500.0, and for employees with missing gender is \\$98,700.0.\n",
    "*   The minimum salary observed across all genders is \\$35,000.0.\n",
    "*   The standard deviation of salaries is similar for 'Female' (\\$26,224.1) and 'Male' (\\$26,233.7), while it is higher for employees with missing gender (\\$27,048.9).\n",
    "*   The mean salary varies by team, ranging from approximately \\$96,825.67 (Distribution) to \\$105,700.56 (Business Development).\n",
    "*   Employees classified as 'True' for Senior Management have a slightly higher mean salary (\\$101,577.41) compared to those classified as 'False' (\\$99,139.73).\n",
    "*   The mean bonus percentage is similar across genders, with 'Female' at approximately 9.99%, 'Male' at approximately 10.36%, and missing gender at approximately 10.41%.\n",
    "*   The maximum bonus percentage is also similar across genders, with 'Female' reaching 19.85%, 'Male' reaching 19.944%, and missing gender reaching 19.49%.\n",
    "*   Mean bonus percentages vary across teams, from approximately 9.62% (Distribution) to 10.57% (Business Development).\n",
    "*   Maximum bonus percentages vary by team, with the highest at approximately 19.94% (Legal) and the lowest at approximately 19.26% (Product).\n",
    "\n",
    "### Insights or Next Steps\n",
    "\n",
    "*   The salary distribution visualizations indicate potential differences in salary ranges and medians across genders and teams, which could warrant further investigation into factors influencing these variations.\n",
    "*   While mean and maximum bonus percentages are relatively consistent across gender and team, exploring the distribution and other percentiles of bonus percentages might reveal more nuanced patterns or outliers.\n"
   ]
  },
  {
   "cell_type": "markdown",
   "metadata": {
    "id": "A6KxH0SRjyZ1"
   },
   "source": [
    "Analyze the distribution of 'Bonus %': Similar to salary, you can look at the overall distribution of bonus percentages using a histogram.\n",
    "Compare 'Bonus %' across different categories: Calculate the mean, median, or other statistics for 'Bonus %' grouped by 'Team', 'Senior Management', or a combination of categories.\n",
    "Analyze the relationship between 'Salary' and 'Bonus %': You could create a scatter plot to see if there's any correlation between salary and bonus percentage.\n",
    "Analyze the 'Start Date' column:\n",
    "Extract the year, month, or day of the week from the 'Start Date'.\n",
    "Analyze the number of hires over time (e.g., hires per year or month).\n",
    "Look for trends in hiring based on team or gender over time.\n",
    "Analyze the 'Last Login Time' column:\n",
    "Extract the hour of the day or day of the week from the 'Last Login Time'.\n",
    "Analyze the distribution of login times.\n",
    "See if login times vary by team or senior management status.\n",
    "Analyze the 'Senior Management' column:\n",
    "Count the number of employees in senior management vs. not.\n",
    "Analyze the distribution of senior management status within each team.\n",
    "Analyze the 'Team' column:\n",
    "Count the number of employees in each team.\n",
    "Analyze the distribution of gender or senior management status within each team.\n",
    "Analyze combinations of columns: For example, you could analyze the average salary for male employees in the 'Sales' team, or the average bonus percentage for female employees in senior management."
   ]
  },
  {
   "cell_type": "markdown",
   "metadata": {
    "id": "qNysoK3huhWt"
   },
   "source": [
    "Analyze the distribution of 'Bonus %': Similar to salary, you can look at the overall distribution of bonus percentages using a histogram."
   ]
  },
  {
   "cell_type": "code",
   "execution_count": null,
   "metadata": {
    "colab": {
     "base_uri": "https://localhost:8080/",
     "height": 969
    },
    "id": "rTqphAtKuojC",
    "outputId": "7b9ed0d9-377a-4eb2-8a78-1fd4822e2d50"
   },
   "outputs": [],
   "source": [
    "df['Bonus %'].plot(kind = 'hist', bins=20, edgecolor='black')\n",
    "plt.figure(figsize=(10, 6))\n",
    "plt.xticks(rotation= 45, ha= 'right')\n",
    "plt.title('Histogram Of Bonus %')\n",
    "plt.savefig('Histogram Of Bonus %.png')\n",
    "plt.show()"
   ]
  },
  {
   "cell_type": "markdown",
   "metadata": {
    "id": "_e7_9i7n1Q5J"
   },
   "source": [
    "Compare 'Bonus %' across different categories: Calculate the mean, median, or other statistics for 'Bonus %' grouped by 'Team', 'Senior Management', or a combination of categories"
   ]
  },
  {
   "cell_type": "code",
   "execution_count": null,
   "metadata": {
    "colab": {
     "base_uri": "https://localhost:8080/",
     "height": 460
    },
    "id": "dQAGfL9X1TFX",
    "outputId": "82644c5f-cf44-4889-b0ef-5b003e7b99dd"
   },
   "outputs": [],
   "source": [
    "df.groupby('Team')['Bonus %'].mean().sort_values(ascending = False)"
   ]
  },
  {
   "cell_type": "code",
   "execution_count": null,
   "metadata": {
    "colab": {
     "base_uri": "https://localhost:8080/",
     "height": 492
    },
    "id": "mYAHAp2K2Xsl",
    "outputId": "eebf1fc4-4764-4643-c472-2a6b68f6304d"
   },
   "outputs": [],
   "source": [
    "pd.pivot_table(data = df, values = 'Bonus %', index = 'First Name', columns = 'Salary')"
   ]
  },
  {
   "cell_type": "code",
   "execution_count": null,
   "metadata": {
    "colab": {
     "base_uri": "https://localhost:8080/",
     "height": 258
    },
    "id": "0wDwJHA23U-w",
    "outputId": "b855cc2c-36c7-46f7-ce29-f238cf892862"
   },
   "outputs": [],
   "source": [
    "display(df['Salary'].head())\n",
    "display(df['Salary'].dtype)"
   ]
  },
  {
   "cell_type": "code",
   "execution_count": null,
   "metadata": {
    "id": "uS3hGo2w4ObT"
   },
   "outputs": [],
   "source": [
    "df = pd.read_csv('employees2.csv.csv')\n",
    "\n",
    "df['Start Date'] = pd.to_datetime(df['Start Date'], errors='coerce')\n",
    "df['Last Login Time'] = pd.to_datetime(df['Last Login Time'], errors='coerce').dt.time\n",
    "\n",
    "df = df.astype({\n",
    "    'First Name': 'str',\n",
    "    'Gender': 'str',\n",
    "    'Salary': 'float',\n",
    "    'Bonus %': 'float',\n",
    "    'Senior Management': 'str',\n",
    "    'Team': 'str'\n",
    "})"
   ]
  },
  {
   "cell_type": "code",
   "execution_count": null,
   "metadata": {
    "colab": {
     "base_uri": "https://localhost:8080/",
     "height": 455
    },
    "id": "JIHnuLbc4Y5R",
    "outputId": "dfde5a7d-e390-4658-9f61-973cfe296b1a"
   },
   "outputs": [],
   "source": [
    "pd.pivot_table(data = df, values = 'Bonus %', index = 'First Name', columns = 'Team')"
   ]
  },
  {
   "cell_type": "markdown",
   "metadata": {
    "id": "733da0ba"
   },
   "source": [
    "**Reasoning**:\n",
    "Extract the year and month from the 'Start Date' column to analyze hiring trends over time."
   ]
  },
  {
   "cell_type": "code",
   "execution_count": null,
   "metadata": {
    "colab": {
     "base_uri": "https://localhost:8080/",
     "height": 206
    },
    "id": "a6ced2fd",
    "outputId": "45a1a2cb-d212-4ca3-b29e-30e29a433a0d"
   },
   "outputs": [],
   "source": [
    "df['Start Year'] = df['Start Date'].dt.year\n",
    "df['Start Month'] = df['Start Date'].dt.month\n",
    "display(df[['Start Date', 'Start Year', 'Start Month']].head())"
   ]
  },
  {
   "cell_type": "markdown",
   "metadata": {
    "id": "292c0fb3"
   },
   "source": [
    "**Reasoning**:\n",
    "Group by 'Start Year' and 'Start Month' and count the number of hires to see hiring trends over time."
   ]
  },
  {
   "cell_type": "code",
   "execution_count": null,
   "metadata": {
    "colab": {
     "base_uri": "https://localhost:8080/",
     "height": 424
    },
    "id": "eb8995be",
    "outputId": "a44cdcfd-2338-458d-c3fa-b6ec5013c6eb"
   },
   "outputs": [],
   "source": [
    "hires_over_time = df.groupby(['Start Year', 'Start Month']).size().reset_index(name='Number of Hires')\n",
    "display(hires_over_time)"
   ]
  },
  {
   "cell_type": "markdown",
   "metadata": {
    "id": "83ea4d50"
   },
   "source": [
    "**Reasoning**:\n",
    "Extract the hour of the day from the 'Last Login Time' column to analyze the distribution of login times."
   ]
  },
  {
   "cell_type": "code",
   "execution_count": null,
   "metadata": {
    "colab": {
     "base_uri": "https://localhost:8080/",
     "height": 206
    },
    "id": "a97db4e4",
    "outputId": "d1f7e9ed-268f-41d1-9400-c3ac23ee0e54"
   },
   "outputs": [],
   "source": [
    "df['Login Hour'] = pd.to_datetime(df['Last Login Time'], format='%H:%M:%S').dt.hour\n",
    "display(df[['Last Login Time', 'Login Hour']].head())"
   ]
  },
  {
   "cell_type": "markdown",
   "metadata": {
    "id": "c94ee863"
   },
   "source": [
    "**Reasoning**:\n",
    "Visualize the distribution of login hours using a histogram."
   ]
  },
  {
   "cell_type": "code",
   "execution_count": null,
   "metadata": {
    "colab": {
     "base_uri": "https://localhost:8080/",
     "height": 564
    },
    "id": "9af15939",
    "outputId": "75da3cb4-3301-4f3c-d5a8-ca1537a9744a"
   },
   "outputs": [],
   "source": [
    "plt.figure(figsize=(10, 6))\n",
    "plt.hist(df['Login Hour'], bins=24, edgecolor='black')\n",
    "plt.title('Distribution of Last Login Hours')\n",
    "plt.xlabel('Hour of Day')\n",
    "plt.ylabel('Frequency')\n",
    "plt.xticks(range(24))\n",
    "plt.grid(axis='y', alpha=0.75)\n",
    "plt.show()"
   ]
  },
  {
   "cell_type": "markdown",
   "metadata": {
    "id": "f47b68e1"
   },
   "source": [
    "**Reasoning**:\n",
    "Count the number of employees in senior management status (True, False, and nan)."
   ]
  },
  {
   "cell_type": "code",
   "execution_count": null,
   "metadata": {
    "colab": {
     "base_uri": "https://localhost:8080/",
     "height": 210
    },
    "id": "6017ea29",
    "outputId": "02dc1ebf-5a34-4e54-c880-15442d9cccf3"
   },
   "outputs": [],
   "source": [
    "senior_management_counts = df['Senior Management'].value_counts()\n",
    "display(senior_management_counts)"
   ]
  },
  {
   "cell_type": "markdown",
   "metadata": {
    "id": "4bb76c37"
   },
   "source": [
    "**Reasoning**:\n",
    "Count the number of employees in senior management status within each team."
   ]
  },
  {
   "cell_type": "code",
   "execution_count": null,
   "metadata": {
    "colab": {
     "base_uri": "https://localhost:8080/",
     "height": 1000
    },
    "id": "e1f1f2d8",
    "outputId": "5a5c6ab1-21d2-4120-88e5-c69804aa80b4"
   },
   "outputs": [],
   "source": [
    "senior_management_by_team = df.groupby('Team')['Senior Management'].value_counts()\n",
    "display(senior_management_by_team)"
   ]
  },
  {
   "cell_type": "markdown",
   "metadata": {
    "id": "12de8475"
   },
   "source": [
    "**Reasoning**:\n",
    "Count the number of employees in each team."
   ]
  },
  {
   "cell_type": "code",
   "execution_count": null,
   "metadata": {
    "colab": {
     "base_uri": "https://localhost:8080/",
     "height": 460
    },
    "id": "f7d51d6d",
    "outputId": "36b8eb9d-0aa0-435c-d380-5acc6aebffc8"
   },
   "outputs": [],
   "source": [
    "team_counts = df['Team'].value_counts()\n",
    "display(team_counts)"
   ]
  },
  {
   "cell_type": "markdown",
   "metadata": {
    "id": "5b124484"
   },
   "source": [
    "**Reasoning**:\n",
    "Analyze the distribution of gender within each team."
   ]
  },
  {
   "cell_type": "code",
   "execution_count": null,
   "metadata": {
    "colab": {
     "base_uri": "https://localhost:8080/",
     "height": 1000
    },
    "id": "84ee6330",
    "outputId": "b922c514-8db6-4a9a-be17-f83c3ce8345e"
   },
   "outputs": [],
   "source": [
    "gender_distribution_by_team = df.groupby('Team')['Gender'].value_counts()\n",
    "display(gender_distribution_by_team)"
   ]
  },
  {
   "cell_type": "markdown",
   "metadata": {
    "id": "8308537d"
   },
   "source": [
    "**Reasoning**:\n",
    "Calculate the average salary for each combination of Gender and Team."
   ]
  },
  {
   "cell_type": "code",
   "execution_count": null,
   "metadata": {
    "colab": {
     "base_uri": "https://localhost:8080/",
     "height": 1000
    },
    "id": "954cf0e5",
    "outputId": "3843b18f-7cab-4fe1-dab8-6d94208ea87f"
   },
   "outputs": [],
   "source": [
    "average_salary_by_gender_team = df.groupby(['Gender', 'Team'])['Salary'].mean().reset_index()\n",
    "display(average_salary_by_gender_team)"
   ]
  }
 ],
 "metadata": {
  "colab": {
   "provenance": []
  },
  "kernelspec": {
   "display_name": "Python 3",
   "name": "python3"
  },
  "language_info": {
   "name": "python"
  }
 },
 "nbformat": 4,
 "nbformat_minor": 0
}
